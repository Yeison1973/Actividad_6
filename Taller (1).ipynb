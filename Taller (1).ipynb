{
  "cells": [
    {
      "cell_type": "markdown",
      "metadata": {
        "id": "rF7gT9Ra-9fM"
      },
      "source": [
        "***TALLER***\n",
        "\n",
        "***Fundamentos de programación y algoritmia*** \n"
      ]
    },
    {
      "cell_type": "markdown",
      "metadata": {
        "id": "BuSwQVvu56wS"
      },
      "source": [
        "EJERCICIO #1\n",
        "Jugando con operadores\n",
        " \n",
        " \n"
      ]
    },
    {
      "cell_type": "code",
      "execution_count": null,
      "metadata": {
        "id": "5g1DUfE66ga6"
      },
      "outputs": [],
      "source": [
        "print(\"\\n***********************************************************\\n\"\n",
        "      \"\\nESTE PROGRAMA TE AYUDA A CONTAR NUMEROS ELIGIENDO EL RANGO \\n\"\n",
        "      \"\\n***********************************************************\")\n",
        "\n",
        "print(\"\\n**Primero vas a elegir un número hasta donde deseas contar**\\n\"\n",
        "      \"** Luego el numero de incremento ** \\n\"\n",
        "      \"**El programa te Mostrara los numeros de tu conteo**\\n\")\n",
        "\n",
        "\n",
        "num=int(input(\"Ingrese el numero de hasta el cual desea contar: \"))\n",
        "rango= int(input(\"Ingrese de cuanto en cuanto desea contar: \"))\n",
        "cont = 0\n",
        "\n",
        "while cont <= num:\n",
        "  print(cont)\n",
        "  cont += rango \n",
        "\n",
        "\n"
      ]
    },
    {
      "cell_type": "markdown",
      "metadata": {
        "id": "19Pl_kWYjCA0"
      },
      "source": [
        "Ejercico  #2\n",
        "\n",
        "Recibiendo diferentes tipos de datos y utilizando funciones"
      ]
    },
    {
      "cell_type": "code",
      "execution_count": null,
      "metadata": {
        "id": "ia78e9uhjK-9"
      },
      "outputs": [],
      "source": [
        "#Este es un programa que ayuda a solicitar informacion \n",
        "print(\"\\n*******************************************************\\n\"\n",
        "           \"\\nESTE PROGRAMA NOS AYUDA A CONOCERTE UN POCO MAS \\n\"\n",
        "      \"\\n*******************************************************\\n\")\n",
        "print(\"\\n'Por favor digite toda la información como se le solicita' \\n\")\n",
        "\n",
        "print( \n",
        "    \"\\n 1. cédula de Ciudadania\\n\"\n",
        "    \"\\n 2. Trajeta de Identidad\\n\"\n",
        "    \"\\n 3. Cedula de Extranjeria\\n\"\n",
        "    \"\\n 4. Registro Civil\\n \"\n",
        ")\n",
        "t_p= input(\"Seleccione el tipo de Documento:\" )\n",
        "num_doc = int(input (\"Por favor Digite el numero de su cedula: \"))\n",
        "nombre= str (input (\"Por favor Digite su Nombre completo: \"))\n",
        "edad= int(input (\"Por favor introduzca su edad: \"))\n",
        "sexo= input (\"Por favor digite 'H' o 'M' segun su sexo: \")\n",
        "peso = int (input(\"Introduzca su peso en Kilogramos: \"))\n",
        "altura = float(input(\"Introduzca su estatura en metros: \"))\n",
        "\n",
        "if edad >= 18:\n",
        "  print(nombre, \" Eres Mayor de Edad\")\n",
        "else:\n",
        "  print(nombre, \" NO Eres Mayor de Edad\")\n",
        "\n",
        "imc = (peso)/(altura**2)\n",
        "\n",
        "if imc < 18.5:\n",
        "  print (nombre,\"Estas por debajo de tu Peso ideal \")\n",
        "elif imc >=18.5 and imc <= 24.9:\n",
        "  print(\"'FELICITACIONES' \",nombre,\" Estas en tu Peso ideal\")\n",
        "elif imc >= 25.0:\n",
        "  print(nombre, \"Estas fuera de tu Peso Ideal\")\n",
        "\n"
      ]
    },
    {
      "cell_type": "markdown",
      "metadata": {
        "id": "O94BOkMc-dVS"
      },
      "source": [
        "EJERCICIO #3\n",
        "\n",
        "Métodos para hacer cálculos con figuras"
      ]
    },
    {
      "cell_type": "code",
      "execution_count": null,
      "metadata": {
        "id": "hDCRnL-4_XA7"
      },
      "outputs": [],
      "source": [
        "print(\"******************************************************************\")\n",
        "print(\"ESTE PROGRAMA TE AYUDA A CALCULAR EL AREA DE UNA FIGURA GEOMETRICA\")\n",
        "print(\"******************************************************************\")\n",
        "\n",
        "print(\n",
        "    \"\\n'MENU'\\n\"\n",
        "\n",
        "    \"\\n1. cuadrado\\n\"\n",
        "    \"\\n2. triangulo\\n\"\n",
        "    \"\\n3. circulo\\n\"\n",
        "    )\n",
        "\n",
        "opcion= int(input(\"Escoga la figura que desea calcular: \"))\n",
        "\n",
        "if opcion == 1:\n",
        "  lado = int(input(\"Por favor ingrese la medidda del lado: \"))\n",
        "  area= lado * lado \n",
        "  print(\"El area de este Cuadrado es \", area )\n",
        "\n",
        "elif opcion == 2:\n",
        "  base=int(input(\"Por favor Ingrese la Base de el Triangulo: \"))\n",
        "  altura= int(input(\"Por favor Ingrese la altura de el triangulo: \"))\n",
        "\n",
        "  area = int(base * altura /2 )\n",
        "\n",
        "  print(\"El area de este Triangulo es \", area)\n",
        "\n",
        "elif opcion ==3:\n",
        "  radio=int(input(\"Por favor ingrese el radio del circulo: \"))\n",
        "  area= float((3.141592) * (radio**2))\n",
        "\n",
        "  print(\"El area de este circulo es \",area)\n",
        "\n",
        "else: \n",
        "  print(\"Esta opcion no esta disponible.\")\n"
      ]
    },
    {
      "cell_type": "markdown",
      "metadata": {
        "id": "hTrMrFXjFV6F"
      },
      "source": [
        "*EJERCICIO #4*\n",
        "\n",
        "Jugando con operaciones básicas"
      ]
    },
    {
      "cell_type": "code",
      "execution_count": null,
      "metadata": {
        "id": "sLeC6XHVFZnb"
      },
      "outputs": [],
      "source": [
        "print(\"\\n-----------------------------------------------------------\"\n",
        "      \"\\n'ESTE PROGRAMA TE AYUDA A REALIZAR LA OPERACION QUE DESEES'\\n\"\n",
        "      \"-------------------------------------------------------------\\n\"\n",
        "      \"primero el programa te pedira los numeros que deseas calcular, luego la operacion a realizar\\n\"\n",
        "\n",
        "      \"\\n¡COMENCEMOS!\\n\"\n",
        ")\n",
        "\n",
        "num_uno=int(input(\"Por favor ingresa el primer número: \"))\n",
        "num_dos=int(input(\"Por favor ingresa el segundo número: \"))\n",
        "\n",
        "print(\"Escoge el signo de la operación que deseas realizar\\n\"\n",
        "\n",
        "\"\\n1. +\\n\"\n",
        "\"\\n2. -\\n\"\n",
        "\"\\n3. *\\n\"\n",
        "\"\\n4. /\\n\"\n",
        ")\n",
        "opcion=int(input(\"Ingresa la Operación a Realizar: \"))\n",
        "\n",
        "if opcion == 1:\n",
        "  resultado = num_uno + num_dos\n",
        "  print(\"El resultado de tu suma es \", resultado )\n",
        "elif opcion == 2:\n",
        "  resultado = (num_uno) - (num_dos)\n",
        "  print(\"El resultado de tu resta es \", resultado )\n",
        "elif opcion ==3:\n",
        "   resultado = num_uno * num_dos\n",
        "   print(\"El resultado de tu Multiplicación es \", resultado )\n",
        "elif opcion ==4:\n",
        "  resultado = num_uno / num_dos\n",
        "  print(\"El resultado de tu División es \", resultado )\n",
        "else: \n",
        "  print(\"Esta Opción no esta Disponible \")\n"
      ]
    },
    {
      "cell_type": "markdown",
      "metadata": {
        "id": "Rfal_v55LHxA"
      },
      "source": [
        "EJERCICIO #5\n",
        "\n",
        "Jugando con operaciones básicas"
      ]
    },
    {
      "cell_type": "code",
      "execution_count": null,
      "metadata": {
        "id": "RukRlpjlLXbp"
      },
      "outputs": [],
      "source": [
        "print(\"-------------------------------------------------------------\\n\"\n",
        "      \"ESTE PROGRAMA TE AYUDA A CALCULAR EL FACTORIAL DE UN  NÚMERO \\n\"\n",
        "      \"-------------------------------------------------------------\\n\")\n",
        "print(\"Por favor introduzca un Número\")\n",
        "numero= (int(input()))\n",
        "fact=1 \n",
        "\n",
        "for i in range(1, numero+1):\n",
        "  fact *= i\n",
        "  \n",
        "print(\"El FACTORIAL de \",numero, \"es \", fact)"
      ]
    }
  ],
  "metadata": {
    "colab": {
      "collapsed_sections": [],
      "name": "Taller.ipynb",
      "provenance": []
    },
    "kernelspec": {
      "display_name": "Python 3",
      "name": "python3"
    },
    "language_info": {
      "name": "python"
    }
  },
  "nbformat": 4,
  "nbformat_minor": 0
}
